{
 "cells": [
  {
   "cell_type": "code",
   "execution_count": 1,
   "metadata": {},
   "outputs": [],
   "source": [
    "input_path = '../output/gigaword-dev.2018-05-10-7d764e7.npz'\n",
    "word_vocab_path = '../output/vocab.2018-05-10-7d764e7.pkl'"
   ]
  },
  {
   "cell_type": "code",
   "execution_count": 2,
   "metadata": {},
   "outputs": [],
   "source": [
    "import sys\n",
    "if '..' not in sys.path: sys.path.append('..')"
   ]
  },
  {
   "cell_type": "code",
   "execution_count": 3,
   "metadata": {},
   "outputs": [],
   "source": [
    "from convert_mono2hdn import monosemous_noun2related_hdns\n",
    "from hdn import extract_all_hdns"
   ]
  },
  {
   "cell_type": "markdown",
   "metadata": {},
   "source": [
    "## We first explore the distribution of monosemous nouns and the evidence they provide for WSD"
   ]
  },
  {
   "cell_type": "code",
   "execution_count": 4,
   "metadata": {},
   "outputs": [
    {
     "name": "stderr",
     "output_type": "stream",
     "text": [
      "Looking for HDNs: 100%|██████████| 119034/119034 [00:28<00:00, 4193.70lemma/s]\n"
     ]
    },
    {
     "name": "stdout",
     "output_type": "stream",
     "text": [
      "Looking for monosemous nouns... Done.\n",
      "All noun lemmas: 119034\n",
      "Monosemous noun lemmas: 65849 (55.3%)\n",
      "Monosemous multi-word-expressions: 39445 (59.9% of monosemous)\n",
      "\tSamples: art_deco, angular_shape, nasal_canthus, loop_knot, genus_Chaenomeles\n",
      "Lemmas that are not associated with any HDN: physical_entity, whacker, freshener, otherworld, entity, abstract_entity\n",
      "Number of HDNs per lemma: mean=5.2, median=5.0, std=2.0)\n"
     ]
    }
   ],
   "source": [
    "all_hdns = extract_all_hdns()\n",
    "mono2hdn = monosemous_noun2related_hdns(all_hdns)"
   ]
  },
  {
   "cell_type": "code",
   "execution_count": 5,
   "metadata": {},
   "outputs": [],
   "source": [
    "import numpy as np\n",
    "word2id = np.load(word_vocab_path)"
   ]
  },
  {
   "cell_type": "code",
   "execution_count": 6,
   "metadata": {},
   "outputs": [],
   "source": [
    "in_vocab_monos = list(set(mono2hdn).intersection(word2id))"
   ]
  },
  {
   "cell_type": "code",
   "execution_count": 7,
   "metadata": {
    "scrolled": true
   },
   "outputs": [
    {
     "data": {
      "text/plain": [
       "['convertor',\n",
       " 'lysine',\n",
       " 'thistledown',\n",
       " 'macroeconomist',\n",
       " 'oxidizer',\n",
       " 'stronghold',\n",
       " 'urokinase',\n",
       " 'adieu',\n",
       " 'arteriogram',\n",
       " 'phenylephrine',\n",
       " 'eyepatch',\n",
       " 'locality',\n",
       " 'beverage',\n",
       " 'niobium',\n",
       " 'sebum',\n",
       " 'fractal',\n",
       " 'jabot',\n",
       " 'shaheed',\n",
       " 'palimony',\n",
       " 'bloodbath',\n",
       " 'chumminess',\n",
       " 'snowfall',\n",
       " 'attainability',\n",
       " 'chlorpyrifos',\n",
       " 'pornography',\n",
       " 'brainchild',\n",
       " 'referendum',\n",
       " 'collard',\n",
       " 'bystander',\n",
       " 'disinheritance',\n",
       " 'trafficker',\n",
       " 'grunge',\n",
       " 'salicylate',\n",
       " 'potluck',\n",
       " 'crasher',\n",
       " 'consul',\n",
       " 'goitre',\n",
       " 'murre',\n",
       " 'constructivism',\n",
       " 'trader',\n",
       " 'bellower',\n",
       " 'gunfight',\n",
       " 'vegetarianism',\n",
       " 'paedophilia',\n",
       " 'dell',\n",
       " 'bookishness',\n",
       " 'polyethylene',\n",
       " 'preordination',\n",
       " 'desuetude',\n",
       " 'taxman',\n",
       " 'cathedra',\n",
       " 'endodontics',\n",
       " 'untrustworthiness',\n",
       " 'minibar',\n",
       " 'liter',\n",
       " 'potholer',\n",
       " 'liberalisation',\n",
       " 'centrefold',\n",
       " 'diadem',\n",
       " 'rectory',\n",
       " 'dampener',\n",
       " 'abetment',\n",
       " 'picnicker',\n",
       " 'gossipmonger',\n",
       " 'staphylococcus',\n",
       " 'sarcophagus',\n",
       " 'canoeist',\n",
       " 'dyer',\n",
       " 'chasuble',\n",
       " 'offender',\n",
       " 'amorality',\n",
       " 'modernity',\n",
       " 'diarrhea',\n",
       " 'slipover',\n",
       " 'acedia',\n",
       " 'hinny',\n",
       " 'neurologist',\n",
       " 'officialese',\n",
       " 'crystallographer',\n",
       " 'fatuity',\n",
       " 'flippancy',\n",
       " 'rookie',\n",
       " 'anthroposophy',\n",
       " 'synchro',\n",
       " 'perfusion',\n",
       " 'scratchiness',\n",
       " 'lurker',\n",
       " 'malaise',\n",
       " 'atenolol',\n",
       " 'sigma',\n",
       " 'underbody',\n",
       " 'tossup',\n",
       " 'carcinoid',\n",
       " 'quintillion',\n",
       " 'campanula',\n",
       " 'demagogue',\n",
       " 'beaut',\n",
       " 'exerciser',\n",
       " 'hardwood',\n",
       " 'novella']"
      ]
     },
     "execution_count": 7,
     "metadata": {},
     "output_type": "execute_result"
    }
   ],
   "source": [
    "from random import sample\n",
    "sample(in_vocab_monos, 100)"
   ]
  },
  {
   "cell_type": "code",
   "execution_count": 8,
   "metadata": {},
   "outputs": [
    {
     "name": "stdout",
     "output_type": "stream",
     "text": [
      "14226 / 65849\n"
     ]
    }
   ],
   "source": [
    "print(len(in_vocab_monos), '/', len(mono2hdn))"
   ]
  },
  {
   "cell_type": "code",
   "execution_count": 9,
   "metadata": {},
   "outputs": [
    {
     "name": "stderr",
     "output_type": "stream",
     "text": [
      "100%|██████████| 65849/65849 [01:50<00:00, 593.92it/s]"
     ]
    },
    {
     "name": "stdout",
     "output_type": "stream",
     "text": [
      "Found 39433602 evidences, ignored 387125 conflicts\n"
     ]
    },
    {
     "name": "stderr",
     "output_type": "stream",
     "text": [
      "\n"
     ]
    }
   ],
   "source": [
    "from generate_hdn_datasets import *\n",
    "mono2evidence = extract_evidences(mono2hdn, all_hdns)"
   ]
  },
  {
   "cell_type": "code",
   "execution_count": 10,
   "metadata": {
    "scrolled": true
   },
   "outputs": [
    {
     "name": "stderr",
     "output_type": "stream",
     "text": [
      "100%|██████████| 65843/65843 [00:32<00:00, 2051.74it/s]\n"
     ]
    }
   ],
   "source": [
    "from collections import Counter\n",
    "c = Counter(e['candidates'] \n",
    "            for evidences in tqdm(mono2evidence.values()) \n",
    "            for e in evidences)"
   ]
  },
  {
   "cell_type": "code",
   "execution_count": 11,
   "metadata": {},
   "outputs": [
    {
     "data": {
      "text/plain": [
       "<matplotlib.axes._subplots.AxesSubplot at 0x36da307f0>"
      ]
     },
     "execution_count": 11,
     "metadata": {},
     "output_type": "execute_result"
    },
    {
     "data": {
      "image/png": "[encoded data removed]",
      "text/plain": [
       "<matplotlib.figure.Figure at 0x36d92c710>"
      ]
     },
     "metadata": {},
     "output_type": "display_data"
    }
   ],
   "source": [
    "%matplotlib inline\n",
    "import seaborn as sns\n",
    "\n",
    "n = 100\n",
    "sns.barplot(list(range(n)), [cnt for _, cnt in c.most_common(n)])"
   ]
  },
  {
   "cell_type": "code",
   "execution_count": 12,
   "metadata": {},
   "outputs": [],
   "source": [
    "from evaluate.wn_utils import synset2identifier\n",
    "from nltk.corpus import wordnet as wn\n",
    "\n",
    "id2synset = {synset2identifier(ss, '30'): ss for ss in  wn.all_synsets('n')}"
   ]
  },
  {
   "cell_type": "code",
   "execution_count": 13,
   "metadata": {},
   "outputs": [
    {
     "name": "stdout",
     "output_type": "stream",
     "text": [
      "landline:\n",
      "\twhole.n.02\n",
      "\tmatter.n.03\n",
      "\tpsychological_feature.n.01\n",
      "\tlocation.n.01\n",
      "\tgroup.n.01\n",
      "\trelation.n.01\n",
      "\tfigure.n.06\n",
      "\tcircle.n.03\n",
      "\t--> whole.n.02\n",
      "intubation:\n",
      "\tobject.n.01\n",
      "\tpsychological_feature.n.01\n",
      "\tgroup.n.01\n",
      "\tmeasure.n.02\n",
      "\tchemical.n.01\n",
      "\tpaper.n.01\n",
      "\t--> psychological_feature.n.01\n",
      "resin:\n",
      "\tobject.n.01\n",
      "\tmatter.n.03\n",
      "\tartifact.n.01\n",
      "\tlocation.n.01\n",
      "\tdiversion.n.01\n",
      "\twork.n.01\n",
      "\tproperty.n.02\n",
      "\thappening.n.01\n",
      "\tsolid.n.03\n",
      "\t--> matter.n.03\n",
      "harridan:\n",
      "\tcausal_agent.n.01\n",
      "\tcognition.n.01\n",
      "\tattribute.n.02\n",
      "\tevent.n.01\n",
      "\tprocess.n.06\n",
      "\t--> causal_agent.n.01\n",
      "pachyderm:\n",
      "\tthing.n.12\n",
      "\tobject.n.01\n",
      "\tnatural_object.n.01\n",
      "\t--> object.n.01\n",
      "toluene:\n",
      "\tsubstance.n.01\n",
      "\tsubstance.n.07\n",
      "\tpsychological_feature.n.01\n",
      "\tcommunication.n.02\n",
      "\t--> substance.n.01\n",
      "inaccuracy:\n",
      "\tattribute.n.02\n",
      "\trelation.n.01\n",
      "\tcommunity.n.06\n",
      "\tgathering.n.01\n",
      "\torganization.n.01\n",
      "\t--> attribute.n.02\n",
      "baboon:\n",
      "\tanimal.n.01\n",
      "\tplant.n.02\n",
      "\tmatter.n.03\n",
      "\tartifact.n.01\n",
      "\tpsychological_feature.n.01\n",
      "\tmeasure.n.02\n",
      "\tpeer.n.01\n",
      "\tworker.n.01\n",
      "\tfriend.n.01\n",
      "\trelative.n.01\n",
      "\t--> animal.n.01\n",
      "ampersand:\n",
      "\tstate.n.02\n",
      "\tcommunication.n.02\n",
      "\tproperty.n.02\n",
      "\t--> communication.n.02\n",
      "halite:\n",
      "\tperson.n.01\n",
      "\tplant.n.02\n",
      "\tmatter.n.03\n",
      "\t--> matter.n.03\n"
     ]
    }
   ],
   "source": [
    "from random import sample\n",
    "for _ in range(10):\n",
    "    lemma, = sample(in_vocab_monos, 1)\n",
    "    evidence, = sample(mono2evidence[lemma], 1)\n",
    "    print('%s:' %lemma)\n",
    "    for cand in evidence['candidates']:\n",
    "        print('\\t%s' %id2synset[cand].name())\n",
    "    print('\\t--> %s' %id2synset[evidence['hdn']].name())"
   ]
  },
  {
   "cell_type": "markdown",
   "metadata": {},
   "source": [
    "## Now we would explore the evidences in context"
   ]
  },
  {
   "cell_type": "code",
   "execution_count": 14,
   "metadata": {},
   "outputs": [],
   "source": [
    "import numpy as np"
   ]
  },
  {
   "cell_type": "code",
   "execution_count": 15,
   "metadata": {},
   "outputs": [],
   "source": [
    "arrs = np.load(input_path)"
   ]
  },
  {
   "cell_type": "code",
   "execution_count": 16,
   "metadata": {},
   "outputs": [],
   "source": [
    "sent_index, buffer = arrs['sent_index'], arrs['buffer']"
   ]
  },
  {
   "cell_type": "code",
   "execution_count": 17,
   "metadata": {},
   "outputs": [],
   "source": [
    "id2word = {i: w for w, i in word2id.items()}"
   ]
  },
  {
   "cell_type": "code",
   "execution_count": 18,
   "metadata": {},
   "outputs": [],
   "source": [
    "mono_as_ids = set(word2id[w] for w in in_vocab_monos)"
   ]
  },
  {
   "cell_type": "code",
   "execution_count": 19,
   "metadata": {},
   "outputs": [
    {
     "name": "stderr",
     "output_type": "stream",
     "text": [
      "100%|██████████| 12130521/12130521 [02:18<00:00, 87750.18it/s]\n"
     ]
    },
    {
     "data": {
      "text/plain": [
       "3886797"
      ]
     },
     "execution_count": 19,
     "metadata": {},
     "output_type": "execute_result"
    }
   ],
   "source": [
    "mono_in_sent = [{'sent': s, 'word': w} \n",
    "                for s, (start, end) in enumerate(tqdm(sent_index))\n",
    "                for w, word_id in enumerate(buffer[start:end])\n",
    "                if word_id in mono_as_ids]\n",
    "len(mono_in_sent)"
   ]
  },
  {
   "cell_type": "code",
   "execution_count": 33,
   "metadata": {},
   "outputs": [],
   "source": [
    "hdn2id = {hdn: i for i, hdn in enumerate(sorted(all_hdns))}\n",
    "id2hdn = {i: hdn for hdn, i in hdn2id.items()}"
   ]
  },
  {
   "cell_type": "code",
   "execution_count": 37,
   "metadata": {},
   "outputs": [],
   "source": [
    "all_hdn_lists = sorted(set(l for hdn_lists in all_hdns.values() for l in hdn_lists))\n",
    "hdn_list2id = {l: i for i, l in enumerate(all_hdn_lists)}\n",
    "id2hdn_list = {i: l for l, i in hdn_list2id.items()}"
   ]
  },
  {
   "cell_type": "code",
   "execution_count": 47,
   "metadata": {},
   "outputs": [
    {
     "name": "stderr",
     "output_type": "stream",
     "text": [
      "100%|██████████| 3886797/3886797 [02:20<00:00, 27616.98it/s]\n"
     ]
    },
    {
     "data": {
      "text/html": [
       "<div>\n",
       "<style scoped>\n",
       "    .dataframe tbody tr th:only-of-type {\n",
       "        vertical-align: middle;\n",
       "    }\n",
       "\n",
       "    .dataframe tbody tr th {\n",
       "        vertical-align: top;\n",
       "    }\n",
       "\n",
       "    .dataframe thead th {\n",
       "        text-align: right;\n",
       "    }\n",
       "</style>\n",
       "<table border=\"1\" class=\"dataframe\">\n",
       "  <thead>\n",
       "    <tr style=\"text-align: right;\">\n",
       "      <th></th>\n",
       "      <th>candidates</th>\n",
       "      <th>hdn</th>\n",
       "      <th>sent_len</th>\n",
       "      <th>sent_start</th>\n",
       "      <th>sent_stop</th>\n",
       "      <th>word_index</th>\n",
       "    </tr>\n",
       "  </thead>\n",
       "  <tbody>\n",
       "    <tr>\n",
       "      <th>0</th>\n",
       "      <td>2076</td>\n",
       "      <td>37</td>\n",
       "      <td>20</td>\n",
       "      <td>25</td>\n",
       "      <td>45</td>\n",
       "      <td>6</td>\n",
       "    </tr>\n",
       "    <tr>\n",
       "      <th>1</th>\n",
       "      <td>638</td>\n",
       "      <td>37</td>\n",
       "      <td>20</td>\n",
       "      <td>25</td>\n",
       "      <td>45</td>\n",
       "      <td>6</td>\n",
       "    </tr>\n",
       "    <tr>\n",
       "      <th>2</th>\n",
       "      <td>429</td>\n",
       "      <td>37</td>\n",
       "      <td>20</td>\n",
       "      <td>25</td>\n",
       "      <td>45</td>\n",
       "      <td>6</td>\n",
       "    </tr>\n",
       "    <tr>\n",
       "      <th>3</th>\n",
       "      <td>1955</td>\n",
       "      <td>37</td>\n",
       "      <td>20</td>\n",
       "      <td>25</td>\n",
       "      <td>45</td>\n",
       "      <td>15</td>\n",
       "    </tr>\n",
       "    <tr>\n",
       "      <th>4</th>\n",
       "      <td>31</td>\n",
       "      <td>37</td>\n",
       "      <td>20</td>\n",
       "      <td>25</td>\n",
       "      <td>45</td>\n",
       "      <td>15</td>\n",
       "    </tr>\n",
       "  </tbody>\n",
       "</table>\n",
       "</div>"
      ],
      "text/plain": [
       "   candidates  hdn  sent_len  sent_start  sent_stop  word_index\n",
       "0        2076   37        20          25         45           6\n",
       "1         638   37        20          25         45           6\n",
       "2         429   37        20          25         45           6\n",
       "3        1955   37        20          25         45          15\n",
       "4          31   37        20          25         45          15"
      ]
     },
     "execution_count": 47,
     "metadata": {},
     "output_type": "execute_result"
    }
   ],
   "source": [
    "hdn_examples = []\n",
    "for ex in tqdm(mono_in_sent):\n",
    "    sent_start = sent_index[ex['sent'],0]\n",
    "    sent_stop = sent_index[ex['sent'],1]\n",
    "    sent_as_ids = buffer[sent_start : sent_stop]\n",
    "    word_as_id = buffer[sent_start + ex['word']]\n",
    "    if mono2evidence[id2word[word_as_id]]:\n",
    "        for evidence in sample(mono2evidence[id2word[word_as_id]], 3):\n",
    "            candidates_as_id = hdn_list2id[evidence['candidates']]\n",
    "            hdn_as_id = hdn2id[evidence['hdn']]\n",
    "            hdn_examples.append({'sent_start': sent_start, \n",
    "                                 'sent_stop': sent_stop, \n",
    "                                 'sent_len': sent_stop - sent_start, \n",
    "                                 'word_index': ex['word'],\n",
    "                                 'hdn': hdn_as_id,\n",
    "                                 'candidates': candidates_as_id})\n",
    "import pandas as pd\n",
    "hdn_examples = pd.DataFrame(hdn_examples)\n",
    "hdn_examples.head(5)"
   ]
  },
  {
   "cell_type": "code",
   "execution_count": 48,
   "metadata": {},
   "outputs": [
    {
     "data": {
      "text/plain": [
       "11653005"
      ]
     },
     "execution_count": 48,
     "metadata": {},
     "output_type": "execute_result"
    }
   ],
   "source": [
    "len(hdn_examples)"
   ]
  },
  {
   "cell_type": "code",
   "execution_count": 60,
   "metadata": {},
   "outputs": [
    {
     "data": {
      "text/plain": [
       "<matplotlib.axes._subplots.AxesSubplot at 0x1285edf28>"
      ]
     },
     "execution_count": 60,
     "metadata": {},
     "output_type": "execute_result"
    },
    {
     "data": {
      "image/png": "[encoded data removed]",
      "text/plain": [
       "<matplotlib.figure.Figure at 0x41e413f98>"
      ]
     },
     "metadata": {},
     "output_type": "display_data"
    }
   ],
   "source": [
    "sns.distplot(hdn_examples.sent_len.sample(10000))"
   ]
  },
  {
   "cell_type": "code",
   "execution_count": 54,
   "metadata": {},
   "outputs": [
    {
     "data": {
      "text/plain": [
       "<matplotlib.axes._subplots.AxesSubplot at 0x401f0ec18>"
      ]
     },
     "execution_count": 54,
     "metadata": {},
     "output_type": "execute_result"
    },
    {
     "data": {
      "image/png": "[encoded data removed]",
      "text/plain": [
       "<matplotlib.figure.Figure at 0x401ef9828>"
      ]
     },
     "metadata": {},
     "output_type": "display_data"
    }
   ],
   "source": [
    "sns.countplot(x='candidates', data=hdn_examples, \n",
    "              order=pd.value_counts(hdn_examples.candidates).iloc[:100].index)"
   ]
  },
  {
   "cell_type": "code",
   "execution_count": 55,
   "metadata": {},
   "outputs": [
    {
     "data": {
      "text/plain": [
       "<matplotlib.axes._subplots.AxesSubplot at 0x127d465c0>"
      ]
     },
     "execution_count": 55,
     "metadata": {},
     "output_type": "execute_result"
    },
    {
     "data": {
      "image/png": "[encoded data removed]",
      "text/plain": [
       "<matplotlib.figure.Figure at 0x4440f8208>"
      ]
     },
     "metadata": {},
     "output_type": "display_data"
    }
   ],
   "source": [
    "sns.countplot(x='hdn', data=hdn_examples, \n",
    "              order=pd.value_counts(hdn_examples.hdn).iloc[:100].index)"
   ]
  },
  {
   "cell_type": "code",
   "execution_count": 51,
   "metadata": {
    "scrolled": false
   },
   "outputs": [
    {
     "name": "stdout",
     "output_type": "stream",
     "text": [
      "A law enforcement official in Washington , speaking on condition of anonymity , said Lidle -- an avid pilot who earned his flying license before the start of this past season -- was aboard the single - engine aircraft when it slammed into the 30th and 31st floors of the high - rise on the Upper East Side of New York City 's borough of Manhattan .\n",
      "\tWord: \"anonymity\" at 7\n",
      "\tpsychological_feature.n.01\n",
      "\tattribute.n.02\n",
      "\tfixed_charge.n.01\n",
      "\tpoundage.n.01\n",
      "\t--> attribute.n.02\n",
      "\" The Japanese government has made a commitment to handle the problem of the Diaoyu Islands properly and I think they are is serious , \" spokesman Shen Guofang said .\n",
      "\tWord: \"spokesman\" at 7\n",
      "\tperson.n.01\n",
      "\tanimal.n.01\n",
      "\tnatural_object.n.01\n",
      "\tact.n.02\n",
      "\tcommunication.n.02\n",
      "\thappening.n.01\n",
      "\t--> person.n.01\n",
      "\" We were sent someone without any documents , no papers on him , not even a legal paper .\n",
      "\tWord: \"someone\" at 7\n",
      "\tperson.n.01\n",
      "\ttransgression.n.01\n",
      "\tfalsification.n.02\n",
      "\tbrome.n.01\n",
      "\trye_grass.n.01\n",
      "\t--> person.n.01\n",
      "Telerj net income rose 251 percent in 1997 to 255 million reais from 64 million reais in 1996 .\n",
      "\tWord: \"percent\" at 7\n",
      "\trelation.n.01\n",
      "\taction.n.01\n",
      "\tdiscovery.n.01\n",
      "\t--> relation.n.01\n",
      "Bush , the presumptive Republican presidential nominee , told reporters at his Texas ranch Friday that he was going to think `` long and hard '' at the ranch this weekend and review the options that had been carefully prepared by Cheney himself .\n",
      "\tWord: \"nominee\" at 7\n",
      "\tthing.n.12\n",
      "\tperson.n.01\n",
      "\tsubstance.n.07\n",
      "\tcommunication.n.02\n",
      "\tsolid.n.01\n",
      "\t--> person.n.01\n",
      "Jimena , which has lashed Mexico 's Baja California peninsula after making landfall as a hurricane , has weakened to a tropical depression , US forecasters said Friday .\n",
      "\tWord: \"hurricane\" at 7\n",
      "\tprocess.n.06\n",
      "\ttrouser.n.01\n",
      "\tundergarment.n.01\n",
      "\t--> process.n.06\n",
      "Sarah Jessica Parker is engaging as Clark 's agent and niece .\n",
      "\tWord: \"niece\" at 7\n",
      "\tperson.n.01\n",
      "\tanimal.n.01\n",
      "\tmatter.n.03\n",
      "\tartifact.n.01\n",
      "\t--> person.n.01\n",
      "Members of a nationalist group quickly erected an aluminum lighthouse on one of the islands to assert Japan 's claim .\n",
      "\tWord: \"aluminum\" at 7\n",
      "\tmatter.n.03\n",
      "\tconnection.n.03\n",
      "\tcovering.n.02\n",
      "\tdevice.n.01\n",
      "\t--> matter.n.03\n",
      "As the above scene unfolds , the director , a full - time Orcas Island resident named Richard Donner , smiles and confides , `` When this scene plays in the film , you wo n't be able to hear the sound of gunfire .\n",
      "\tWord: \"gunfire\" at 7\n",
      "\tpsychological_feature.n.01\n",
      "\tfacility.n.01\n",
      "\tinstrumentality.n.03\n",
      "\tarrangement.n.02\n",
      "\tsocial_group.n.01\n",
      "\tbank.n.01\n",
      "\tbank.n.07\n",
      "\tnatural_elevation.n.01\n",
      "\tsum.n.01\n",
      "\tfunds.n.01\n",
      "\t--> psychological_feature.n.01\n",
      "In the 1980 referendum on independence , which resulted in 59 percent of voters choosing to keep Quebec in Canada , the biggest opposition to separation came from the business community .\n",
      "\tWord: \"percent\" at 7\n",
      "\trelation.n.01\n",
      "\tguarantee.n.01\n",
      "\tguarantee.n.02\n",
      "\t--> relation.n.01\n"
     ]
    }
   ],
   "source": [
    "for _, row in hdn_examples.sample(n=10).iterrows():\n",
    "    sent_as_ids = buffer[row['sent_start'] : row['sent_stop']]\n",
    "    word_as_id = buffer[row['sent_start'] + row['word_index']]\n",
    "    print(' '.join(id2word[i] for i in sent_as_ids))\n",
    "    print('\\tWord: \"%s\" at %d' %(id2word[word_as_id], ex['word']))\n",
    "    for cand in id2hdn_list[row['candidates']]:\n",
    "        print('\\t%s' %id2synset[cand].name())\n",
    "    print('\\t--> %s' %id2synset[id2hdn[row['hdn']]].name())"
   ]
  },
  {
   "cell_type": "markdown",
   "metadata": {},
   "source": [
    "## Stratified sampling"
   ]
  },
  {
   "cell_type": "code",
   "execution_count": 6,
   "metadata": {},
   "outputs": [],
   "source": [
    "import numpy as np\n",
    "gigaword_path_pattern = '../output/gigaword-%s.2018-05-10-7d764e7.npz'\n",
    "buffer_train = np.load(gigaword_path_pattern %'dev')['buffer']"
   ]
  },
  {
   "cell_type": "code",
   "execution_count": 4,
   "metadata": {},
   "outputs": [
    {
     "data": {
      "text/html": [
       "<div>\n",
       "<style>\n",
       "    .dataframe thead tr:only-child th {\n",
       "        text-align: right;\n",
       "    }\n",
       "\n",
       "    .dataframe thead th {\n",
       "        text-align: left;\n",
       "    }\n",
       "\n",
       "    .dataframe tbody tr th {\n",
       "        vertical-align: top;\n",
       "    }\n",
       "</style>\n",
       "<table border=\"1\" class=\"dataframe\">\n",
       "  <thead>\n",
       "    <tr style=\"text-align: right;\">\n",
       "      <th></th>\n",
       "      <th>candidates</th>\n",
       "      <th>hdn</th>\n",
       "      <th>sent_len</th>\n",
       "      <th>sent_start</th>\n",
       "      <th>sent_stop</th>\n",
       "      <th>word_index</th>\n",
       "    </tr>\n",
       "  </thead>\n",
       "  <tbody>\n",
       "    <tr>\n",
       "      <th>0</th>\n",
       "      <td>1894</td>\n",
       "      <td>37</td>\n",
       "      <td>20</td>\n",
       "      <td>25</td>\n",
       "      <td>45</td>\n",
       "      <td>6</td>\n",
       "    </tr>\n",
       "    <tr>\n",
       "      <th>1</th>\n",
       "      <td>2715</td>\n",
       "      <td>37</td>\n",
       "      <td>20</td>\n",
       "      <td>25</td>\n",
       "      <td>45</td>\n",
       "      <td>15</td>\n",
       "    </tr>\n",
       "    <tr>\n",
       "      <th>2</th>\n",
       "      <td>1584</td>\n",
       "      <td>37</td>\n",
       "      <td>22</td>\n",
       "      <td>45</td>\n",
       "      <td>67</td>\n",
       "      <td>6</td>\n",
       "    </tr>\n",
       "    <tr>\n",
       "      <th>3</th>\n",
       "      <td>2135</td>\n",
       "      <td>37</td>\n",
       "      <td>22</td>\n",
       "      <td>45</td>\n",
       "      <td>67</td>\n",
       "      <td>20</td>\n",
       "    </tr>\n",
       "    <tr>\n",
       "      <th>4</th>\n",
       "      <td>1407</td>\n",
       "      <td>37</td>\n",
       "      <td>19</td>\n",
       "      <td>67</td>\n",
       "      <td>86</td>\n",
       "      <td>3</td>\n",
       "    </tr>\n",
       "  </tbody>\n",
       "</table>\n",
       "</div>"
      ],
      "text/plain": [
       "   candidates  hdn  sent_len  sent_start  sent_stop  word_index\n",
       "0        1894   37        20          25         45           6\n",
       "1        2715   37        20          25         45          15\n",
       "2        1584   37        22          45         67           6\n",
       "3        2135   37        22          45         67          20\n",
       "4        1407   37        19          67         86           3"
      ]
     },
     "execution_count": 4,
     "metadata": {},
     "output_type": "execute_result"
    }
   ],
   "source": [
    "import pandas as pd\n",
    "hdn_path_pattern = '../output/gigaword-hdn-%s.2018-05-18-f48a06c.pkl'\n",
    "hdn_train = pd.read_pickle(hdn_path_pattern %'dev')\n",
    "hdn_train.head()"
   ]
  },
  {
   "cell_type": "code",
   "execution_count": 29,
   "metadata": {},
   "outputs": [
    {
     "name": "stderr",
     "output_type": "stream",
     "text": [
      "\n",
      "Extracting words:   0%|          | 0/3884335 [00:00<?, ?it/s]\u001b[A\n",
      "Extracting words:   0%|          | 1/3884335 [00:00<222:18:56,  4.85it/s]\u001b[A\n",
      "Extracting words:   0%|          | 1983/3884335 [00:00<155:33:28,  6.93it/s]\u001b[A\n",
      "Extracting words:   0%|          | 4243/3884335 [00:00<108:50:29,  9.90it/s]\u001b[A\n",
      "Extracting words:   0%|          | 6612/3884335 [00:00<76:09:21, 14.14it/s] \u001b[A\n",
      "Extracting words:   0%|          | 8979/3884335 [00:00<53:17:25, 20.20it/s]\u001b[A\n",
      "Extracting words:   0%|          | 11451/3884335 [00:00<37:17:33, 28.85it/s]\u001b[A\n",
      "Extracting words:   0%|          | 13950/3884335 [00:00<26:06:03, 41.19it/s]\u001b[A\n",
      "Extracting words:   0%|          | 16414/3884335 [00:00<18:16:19, 58.80it/s]\u001b[A\n",
      "Extracting words:   0%|          | 18810/3884335 [00:01<12:47:45, 83.91it/s]\u001b[A\n",
      "Extracting words:   1%|          | 21302/3884335 [00:01<8:57:51, 119.70it/s]\u001b[A\n",
      "Extracting words:   1%|          | 23642/3884335 [00:01<6:17:06, 170.62it/s]\u001b[A\n",
      "Extracting words:   1%|          | 25968/3884335 [00:01<4:24:39, 242.98it/s]\u001b[A\n",
      "Extracting words:   1%|          | 28469/3884335 [00:01<3:05:54, 345.68it/s]\u001b[A\n",
      "Extracting words:   1%|          | 30845/3884335 [00:01<2:10:58, 490.38it/s]\u001b[A\n",
      "Extracting words:   1%|          | 33353/3884335 [00:01<1:32:23, 694.72it/s]\u001b[A\n",
      "Extracting words:   1%|          | 35713/3884335 [00:01<1:06:02, 971.30it/s]\u001b[A\n",
      "Extracting words:   1%|          | 37775/3884335 [00:01<47:22, 1353.38it/s] \u001b[A\n",
      "Extracting words:   1%|          | 39713/3884335 [00:02<34:13, 1872.16it/s]\u001b[A\n",
      "Extracting words:   1%|          | 41602/3884335 [00:02<25:32, 2507.09it/s]\u001b[A\n",
      "Extracting words:   1%|          | 43285/3884335 [00:02<19:16, 3321.92it/s]\u001b[A\n",
      "Extracting words:   1%|          | 44875/3884335 [00:02<14:42, 4348.80it/s]\u001b[A\n",
      "Extracting words:   1%|          | 46919/3884335 [00:02<11:14, 5693.39it/s]\u001b[A\n",
      "Extracting words:   1%|▏         | 49265/3884335 [00:02<08:40, 7367.13it/s]\u001b[A\n",
      "Extracting words:   1%|▏         | 51711/3884335 [00:02<06:51, 9321.06it/s]\u001b[A\n",
      "Extracting words:   1%|▏         | 54173/3884335 [00:02<05:34, 11456.51it/s]\u001b[A\n",
      "Extracting words:   1%|▏         | 56360/3884335 [00:02<04:49, 13231.15it/s]\u001b[A\n",
      "Extracting words:   2%|▏         | 58513/3884335 [00:03<04:21, 14603.68it/s]\u001b[A\n",
      "Extracting words:   2%|▏         | 60598/3884335 [00:03<04:00, 15894.86it/s]\u001b[A\n",
      "Extracting words:   2%|▏         | 62659/3884335 [00:03<03:49, 16668.51it/s]\u001b[A\n",
      "Extracting words:   2%|▏         | 64702/3884335 [00:03<03:36, 17638.49it/s]\u001b[A\n",
      "Extracting words:   2%|▏         | 67004/3884335 [00:03<03:21, 18967.93it/s]\u001b[A\n",
      "Extracting words:   2%|▏         | 69107/3884335 [00:03<03:18, 19234.91it/s]\u001b[A\n",
      "Extracting words:   2%|▏         | 71179/3884335 [00:03<03:13, 19655.86it/s]\u001b[A\n",
      "Extracting words:   2%|▏         | 73249/3884335 [00:03<03:20, 19005.20it/s]\u001b[A\n",
      "Extracting words:   2%|▏         | 75447/3884335 [00:03<03:12, 19808.93it/s]\u001b[A\n",
      "Extracting words:   2%|▏         | 77610/3884335 [00:03<03:07, 20321.82it/s]\u001b[A\n",
      "Extracting words:   2%|▏         | 79690/3884335 [00:04<03:25, 18500.09it/s]\u001b[A\n",
      "Extracting words:   2%|▏         | 81605/3884335 [00:04<04:12, 15035.52it/s]\u001b[A\n",
      "Extracting words:   2%|▏         | 83260/3884335 [00:04<04:34, 13834.90it/s]\u001b[A\n",
      "Extracting words:   2%|▏         | 85312/3884335 [00:04<04:07, 15332.39it/s]\u001b[A\n",
      "Extracting words:   2%|▏         | 87281/3884335 [00:04<03:51, 16422.66it/s]\u001b[A\n",
      "Extracting words:   2%|▏         | 89074/3884335 [00:04<03:45, 16847.04it/s]\u001b[A\n",
      "Extracting words:   2%|▏         | 91004/3884335 [00:04<03:36, 17514.48it/s]\u001b[A\n",
      "Extracting words:   2%|▏         | 93361/3884335 [00:04<03:19, 18976.04it/s]\u001b[A\n",
      "Extracting words:   2%|▏         | 95341/3884335 [00:05<03:23, 18656.25it/s]\u001b[A\n",
      "Extracting words:   3%|▎         | 97721/3884335 [00:05<03:09, 19949.28it/s]\u001b[A\n",
      "Extracting words:   3%|▎         | 99834/3884335 [00:05<03:06, 20288.24it/s]\u001b[A\n",
      "Extracting words:   3%|▎         | 101911/3884335 [00:05<03:07, 20198.42it/s]\u001b[A\n",
      "Extracting words:   3%|▎         | 103965/3884335 [00:05<03:09, 19932.87it/s]\u001b[A\n",
      "Extracting words:   3%|▎         | 106239/3884335 [00:05<03:02, 20698.14it/s]\u001b[A\n",
      "Extracting words:   3%|▎         | 108334/3884335 [00:05<03:16, 19263.75it/s]\u001b[A\n",
      "Extracting words:   3%|▎         | 110298/3884335 [00:05<04:02, 15541.14it/s]\u001b[A\n",
      "Extracting words:   3%|▎         | 111994/3884335 [00:06<04:30, 13925.74it/s]\u001b[A\n",
      "Extracting words:   3%|▎         | 113924/3884335 [00:06<04:08, 15194.92it/s]\u001b[A\n",
      "Extracting words:   3%|▎         | 115570/3884335 [00:06<04:14, 14819.14it/s]\u001b[A\n",
      "Extracting words:   3%|▎         | 117442/3884335 [00:06<03:58, 15806.19it/s]\u001b[A\n",
      "Extracting words:   3%|▎         | 119688/3884335 [00:06<03:37, 17347.20it/s]\u001b[A\n",
      "Extracting words:   3%|▎         | 121549/3884335 [00:06<03:32, 17707.12it/s]\u001b[A\n",
      "Extracting words:   3%|▎         | 123394/3884335 [00:06<03:32, 17657.47it/s]\u001b[A\n",
      "Extracting words:   3%|▎         | 125212/3884335 [00:06<03:32, 17696.36it/s]\u001b[A\n",
      "Extracting words:   3%|▎         | 127170/3884335 [00:06<03:26, 18220.70it/s]\u001b[A\n",
      "Extracting words:   3%|▎         | 129022/3884335 [00:06<03:32, 17689.83it/s]\u001b[A\n",
      "Extracting words:   3%|▎         | 130815/3884335 [00:07<03:36, 17375.83it/s]\u001b[A\n",
      "Extracting words:   3%|▎         | 132881/3884335 [00:07<03:25, 18240.64it/s]\u001b[A\n",
      "Extracting words:   3%|▎         | 134905/3884335 [00:07<03:19, 18792.21it/s]\u001b[A/Users/cumeo/Projects/spinoza/ulm-4/wsd-dynamic-sense-vector/venv/lib/python3.6/site-packages/tqdm/_monitor.py:89: TqdmSynchronisationWarning: Set changed size during iteration (see https://github.com/tqdm/tqdm/issues/481)\n",
      "  TqdmSynchronisationWarning)\n",
      "\n",
      "Extracting words:   4%|▎         | 136806/3884335 [00:07<04:02, 15451.92it/s]\u001b[A\n",
      "Extracting words:   4%|▎         | 138609/3884335 [00:07<03:52, 16143.24it/s]\u001b[A\n",
      "Extracting words:   4%|▎         | 140828/3884335 [00:07<03:32, 17578.18it/s]\u001b[A\n",
      "Extracting words:   4%|▎         | 143004/3884335 [00:07<03:20, 18652.28it/s]\u001b[A\n",
      "Extracting words:   4%|▎         | 144956/3884335 [00:07<03:23, 18420.06it/s]\u001b[A\n",
      "Extracting words:   4%|▍         | 147241/3884335 [00:07<03:11, 19556.69it/s]\u001b[A\n",
      "Extracting words:   4%|▍         | 149259/3884335 [00:08<03:15, 19056.79it/s]\u001b[A\n",
      "Extracting words:   4%|▍         | 151211/3884335 [00:08<03:27, 18003.52it/s]\u001b[A\n",
      "Extracting words:   4%|▍         | 153364/3884335 [00:08<03:17, 18933.80it/s]\u001b[A\n",
      "Extracting words:   4%|▍         | 155302/3884335 [00:08<03:49, 16222.59it/s]\u001b[A\n",
      "Extracting words:   4%|▍         | 157023/3884335 [00:08<03:54, 15898.90it/s]\u001b[A\n",
      "Extracting words:   4%|▍         | 158853/3884335 [00:08<03:45, 16550.23it/s]\u001b[A\n",
      "Extracting words:   4%|▍         | 160768/3884335 [00:08<03:35, 17252.77it/s]\u001b[A\n",
      "Extracting words:   4%|▍         | 163086/3884335 [00:08<03:19, 18684.99it/s]\u001b[A\n",
      "Extracting words:   4%|▍         | 165022/3884335 [00:08<03:22, 18394.23it/s]\u001b[A\n",
      "Extracting words:   4%|▍         | 166910/3884335 [00:09<03:21, 18441.77it/s]\u001b[A\n",
      "Extracting words:   4%|▍         | 168788/3884335 [00:09<03:24, 18175.91it/s]\u001b[A\n",
      "Extracting words:   4%|▍         | 170631/3884335 [00:09<03:35, 17211.49it/s]\u001b[A\n",
      "Extracting words:   4%|▍         | 172380/3884335 [00:09<03:37, 17042.50it/s]\u001b[A\n",
      "Extracting words:   4%|▍         | 174105/3884335 [00:09<03:44, 16555.47it/s]\u001b[A\n",
      "Extracting words:   5%|▍         | 176215/3884335 [00:09<03:29, 17684.93it/s]\u001b[A\n",
      "Extracting words:   5%|▍         | 178017/3884335 [00:09<03:39, 16920.94it/s]\u001b[A"
     ]
    },
    {
     "ename": "KeyboardInterrupt",
     "evalue": "",
     "output_type": "error",
     "traceback": [
      "\u001b[0;31m---------------------------------------------------------------------------\u001b[0m",
      "\u001b[0;31mKeyboardInterrupt\u001b[0m                         Traceback (most recent call last)",
      "\u001b[0;32m<ipython-input-29-b538dc7f3655>\u001b[0m in \u001b[0;36m<module>\u001b[0;34m()\u001b[0m\n\u001b[1;32m      1\u001b[0m \u001b[0;32mfrom\u001b[0m \u001b[0mtqdm\u001b[0m \u001b[0;32mimport\u001b[0m \u001b[0mtqdm\u001b[0m\u001b[0;34m\u001b[0m\u001b[0m\n\u001b[1;32m      2\u001b[0m \u001b[0mtqdm\u001b[0m\u001b[0;34m.\u001b[0m\u001b[0mpandas\u001b[0m\u001b[0;34m(\u001b[0m\u001b[0mdesc\u001b[0m\u001b[0;34m=\u001b[0m\u001b[0;34m\"Extracting words\"\u001b[0m\u001b[0;34m)\u001b[0m\u001b[0;34m\u001b[0m\u001b[0m\n\u001b[0;32m----> 3\u001b[0;31m \u001b[0mwords\u001b[0m \u001b[0;34m=\u001b[0m \u001b[0mhdn_train\u001b[0m\u001b[0;34m.\u001b[0m\u001b[0mprogress_apply\u001b[0m\u001b[0;34m(\u001b[0m\u001b[0;32mlambda\u001b[0m \u001b[0mrow\u001b[0m\u001b[0;34m:\u001b[0m \u001b[0mbuffer_train\u001b[0m\u001b[0;34m[\u001b[0m\u001b[0mrow\u001b[0m\u001b[0;34m[\u001b[0m\u001b[0;34m\"sent_start\"\u001b[0m\u001b[0;34m]\u001b[0m\u001b[0;34m:\u001b[0m\u001b[0mrow\u001b[0m\u001b[0;34m[\u001b[0m\u001b[0;34m\"sent_stop\"\u001b[0m\u001b[0;34m]\u001b[0m\u001b[0;34m]\u001b[0m\u001b[0;34m[\u001b[0m\u001b[0mrow\u001b[0m\u001b[0;34m[\u001b[0m\u001b[0;34m\"word_index\"\u001b[0m\u001b[0;34m]\u001b[0m\u001b[0;34m]\u001b[0m\u001b[0;34m,\u001b[0m \u001b[0maxis\u001b[0m\u001b[0;34m=\u001b[0m\u001b[0;36m1\u001b[0m\u001b[0;34m)\u001b[0m\u001b[0;34m\u001b[0m\u001b[0m\n\u001b[0m",
      "\u001b[0;32m~/Projects/spinoza/ulm-4/wsd-dynamic-sense-vector/venv/lib/python3.6/site-packages/tqdm/_tqdm.py\u001b[0m in \u001b[0;36minner\u001b[0;34m(df, func, *args, **kwargs)\u001b[0m\n\u001b[1;32m    607\u001b[0m                 \u001b[0;31m# Apply the provided function (in **kwargs)\u001b[0m\u001b[0;34m\u001b[0m\u001b[0;34m\u001b[0m\u001b[0m\n\u001b[1;32m    608\u001b[0m                 \u001b[0;31m# on the df using our wrapper (which provides bar updating)\u001b[0m\u001b[0;34m\u001b[0m\u001b[0;34m\u001b[0m\u001b[0m\n\u001b[0;32m--> 609\u001b[0;31m                 \u001b[0mresult\u001b[0m \u001b[0;34m=\u001b[0m \u001b[0mgetattr\u001b[0m\u001b[0;34m(\u001b[0m\u001b[0mdf\u001b[0m\u001b[0;34m,\u001b[0m \u001b[0mdf_function\u001b[0m\u001b[0;34m)\u001b[0m\u001b[0;34m(\u001b[0m\u001b[0mwrapper\u001b[0m\u001b[0;34m,\u001b[0m \u001b[0;34m**\u001b[0m\u001b[0mkwargs\u001b[0m\u001b[0;34m)\u001b[0m\u001b[0;34m\u001b[0m\u001b[0m\n\u001b[0m\u001b[1;32m    610\u001b[0m \u001b[0;34m\u001b[0m\u001b[0m\n\u001b[1;32m    611\u001b[0m                 \u001b[0;31m# Close bar and return pandas calculation result\u001b[0m\u001b[0;34m\u001b[0m\u001b[0;34m\u001b[0m\u001b[0m\n",
      "\u001b[0;32m~/Projects/spinoza/ulm-4/wsd-dynamic-sense-vector/venv/lib/python3.6/site-packages/pandas/core/frame.py\u001b[0m in \u001b[0;36mapply\u001b[0;34m(self, func, axis, broadcast, raw, reduce, args, **kwds)\u001b[0m\n\u001b[1;32m   4260\u001b[0m                         \u001b[0mf\u001b[0m\u001b[0;34m,\u001b[0m \u001b[0maxis\u001b[0m\u001b[0;34m,\u001b[0m\u001b[0;34m\u001b[0m\u001b[0m\n\u001b[1;32m   4261\u001b[0m                         \u001b[0mreduce\u001b[0m\u001b[0;34m=\u001b[0m\u001b[0mreduce\u001b[0m\u001b[0;34m,\u001b[0m\u001b[0;34m\u001b[0m\u001b[0m\n\u001b[0;32m-> 4262\u001b[0;31m                         ignore_failures=ignore_failures)\n\u001b[0m\u001b[1;32m   4263\u001b[0m             \u001b[0;32melse\u001b[0m\u001b[0;34m:\u001b[0m\u001b[0;34m\u001b[0m\u001b[0m\n\u001b[1;32m   4264\u001b[0m                 \u001b[0;32mreturn\u001b[0m \u001b[0mself\u001b[0m\u001b[0;34m.\u001b[0m\u001b[0m_apply_broadcast\u001b[0m\u001b[0;34m(\u001b[0m\u001b[0mf\u001b[0m\u001b[0;34m,\u001b[0m \u001b[0maxis\u001b[0m\u001b[0;34m)\u001b[0m\u001b[0;34m\u001b[0m\u001b[0m\n",
      "\u001b[0;32m~/Projects/spinoza/ulm-4/wsd-dynamic-sense-vector/venv/lib/python3.6/site-packages/pandas/core/frame.py\u001b[0m in \u001b[0;36m_apply_standard\u001b[0;34m(self, func, axis, ignore_failures, reduce)\u001b[0m\n\u001b[1;32m   4316\u001b[0m                     \u001b[0mlabels\u001b[0m \u001b[0;34m=\u001b[0m \u001b[0mself\u001b[0m\u001b[0;34m.\u001b[0m\u001b[0m_get_agg_axis\u001b[0m\u001b[0;34m(\u001b[0m\u001b[0maxis\u001b[0m\u001b[0;34m)\u001b[0m\u001b[0;34m\u001b[0m\u001b[0m\n\u001b[1;32m   4317\u001b[0m                     result = lib.reduce(values, func, axis=axis, dummy=dummy,\n\u001b[0;32m-> 4318\u001b[0;31m                                         labels=labels)\n\u001b[0m\u001b[1;32m   4319\u001b[0m                     \u001b[0;32mreturn\u001b[0m \u001b[0mSeries\u001b[0m\u001b[0;34m(\u001b[0m\u001b[0mresult\u001b[0m\u001b[0;34m,\u001b[0m \u001b[0mindex\u001b[0m\u001b[0;34m=\u001b[0m\u001b[0mlabels\u001b[0m\u001b[0;34m)\u001b[0m\u001b[0;34m\u001b[0m\u001b[0m\n\u001b[1;32m   4320\u001b[0m                 \u001b[0;32mexcept\u001b[0m \u001b[0mException\u001b[0m\u001b[0;34m:\u001b[0m\u001b[0;34m\u001b[0m\u001b[0m\n",
      "\u001b[0;32mpandas/_libs/src/reduce.pyx\u001b[0m in \u001b[0;36mpandas._libs.lib.reduce (pandas/_libs/lib.c:44036)\u001b[0;34m()\u001b[0m\n",
      "\u001b[0;32mpandas/_libs/src/reduce.pyx\u001b[0m in \u001b[0;36mpandas._libs.lib.Reducer.get_result (pandas/_libs/lib.c:33629)\u001b[0;34m()\u001b[0m\n",
      "\u001b[0;32m~/Projects/spinoza/ulm-4/wsd-dynamic-sense-vector/venv/lib/python3.6/site-packages/tqdm/_tqdm.py\u001b[0m in \u001b[0;36mwrapper\u001b[0;34m(*args, **kwargs)\u001b[0m\n\u001b[1;32m    603\u001b[0m                     \u001b[0;31m# take a fast or slow code path; so stop when t.total==t.n\u001b[0m\u001b[0;34m\u001b[0m\u001b[0;34m\u001b[0m\u001b[0m\n\u001b[1;32m    604\u001b[0m                     \u001b[0mt\u001b[0m\u001b[0;34m.\u001b[0m\u001b[0mupdate\u001b[0m\u001b[0;34m(\u001b[0m\u001b[0mn\u001b[0m\u001b[0;34m=\u001b[0m\u001b[0;36m1\u001b[0m \u001b[0;32mif\u001b[0m \u001b[0;32mnot\u001b[0m \u001b[0mt\u001b[0m\u001b[0;34m.\u001b[0m\u001b[0mtotal\u001b[0m \u001b[0;32mor\u001b[0m \u001b[0mt\u001b[0m\u001b[0;34m.\u001b[0m\u001b[0mn\u001b[0m \u001b[0;34m<\u001b[0m \u001b[0mt\u001b[0m\u001b[0;34m.\u001b[0m\u001b[0mtotal\u001b[0m \u001b[0;32melse\u001b[0m \u001b[0;36m0\u001b[0m\u001b[0;34m)\u001b[0m\u001b[0;34m\u001b[0m\u001b[0m\n\u001b[0;32m--> 605\u001b[0;31m                     \u001b[0;32mreturn\u001b[0m \u001b[0mfunc\u001b[0m\u001b[0;34m(\u001b[0m\u001b[0;34m*\u001b[0m\u001b[0margs\u001b[0m\u001b[0;34m,\u001b[0m \u001b[0;34m**\u001b[0m\u001b[0mkwargs\u001b[0m\u001b[0;34m)\u001b[0m\u001b[0;34m\u001b[0m\u001b[0m\n\u001b[0m\u001b[1;32m    606\u001b[0m \u001b[0;34m\u001b[0m\u001b[0m\n\u001b[1;32m    607\u001b[0m                 \u001b[0;31m# Apply the provided function (in **kwargs)\u001b[0m\u001b[0;34m\u001b[0m\u001b[0;34m\u001b[0m\u001b[0m\n",
      "\u001b[0;32m<ipython-input-29-b538dc7f3655>\u001b[0m in \u001b[0;36m<lambda>\u001b[0;34m(row)\u001b[0m\n\u001b[1;32m      1\u001b[0m \u001b[0;32mfrom\u001b[0m \u001b[0mtqdm\u001b[0m \u001b[0;32mimport\u001b[0m \u001b[0mtqdm\u001b[0m\u001b[0;34m\u001b[0m\u001b[0m\n\u001b[1;32m      2\u001b[0m \u001b[0mtqdm\u001b[0m\u001b[0;34m.\u001b[0m\u001b[0mpandas\u001b[0m\u001b[0;34m(\u001b[0m\u001b[0mdesc\u001b[0m\u001b[0;34m=\u001b[0m\u001b[0;34m\"Extracting words\"\u001b[0m\u001b[0;34m)\u001b[0m\u001b[0;34m\u001b[0m\u001b[0m\n\u001b[0;32m----> 3\u001b[0;31m \u001b[0mwords\u001b[0m \u001b[0;34m=\u001b[0m \u001b[0mhdn_train\u001b[0m\u001b[0;34m.\u001b[0m\u001b[0mprogress_apply\u001b[0m\u001b[0;34m(\u001b[0m\u001b[0;32mlambda\u001b[0m \u001b[0mrow\u001b[0m\u001b[0;34m:\u001b[0m \u001b[0mbuffer_train\u001b[0m\u001b[0;34m[\u001b[0m\u001b[0mrow\u001b[0m\u001b[0;34m[\u001b[0m\u001b[0;34m\"sent_start\"\u001b[0m\u001b[0;34m]\u001b[0m\u001b[0;34m:\u001b[0m\u001b[0mrow\u001b[0m\u001b[0;34m[\u001b[0m\u001b[0;34m\"sent_stop\"\u001b[0m\u001b[0;34m]\u001b[0m\u001b[0;34m]\u001b[0m\u001b[0;34m[\u001b[0m\u001b[0mrow\u001b[0m\u001b[0;34m[\u001b[0m\u001b[0;34m\"word_index\"\u001b[0m\u001b[0;34m]\u001b[0m\u001b[0;34m]\u001b[0m\u001b[0;34m,\u001b[0m \u001b[0maxis\u001b[0m\u001b[0;34m=\u001b[0m\u001b[0;36m1\u001b[0m\u001b[0;34m)\u001b[0m\u001b[0;34m\u001b[0m\u001b[0m\n\u001b[0m",
      "\u001b[0;32m~/Projects/spinoza/ulm-4/wsd-dynamic-sense-vector/venv/lib/python3.6/site-packages/pandas/core/series.py\u001b[0m in \u001b[0;36m__getitem__\u001b[0;34m(self, key)\u001b[0m\n\u001b[1;32m    599\u001b[0m         \u001b[0mkey\u001b[0m \u001b[0;34m=\u001b[0m \u001b[0mcom\u001b[0m\u001b[0;34m.\u001b[0m\u001b[0m_apply_if_callable\u001b[0m\u001b[0;34m(\u001b[0m\u001b[0mkey\u001b[0m\u001b[0;34m,\u001b[0m \u001b[0mself\u001b[0m\u001b[0;34m)\u001b[0m\u001b[0;34m\u001b[0m\u001b[0m\n\u001b[1;32m    600\u001b[0m         \u001b[0;32mtry\u001b[0m\u001b[0;34m:\u001b[0m\u001b[0;34m\u001b[0m\u001b[0m\n\u001b[0;32m--> 601\u001b[0;31m             \u001b[0mresult\u001b[0m \u001b[0;34m=\u001b[0m \u001b[0mself\u001b[0m\u001b[0;34m.\u001b[0m\u001b[0mindex\u001b[0m\u001b[0;34m.\u001b[0m\u001b[0mget_value\u001b[0m\u001b[0;34m(\u001b[0m\u001b[0mself\u001b[0m\u001b[0;34m,\u001b[0m \u001b[0mkey\u001b[0m\u001b[0;34m)\u001b[0m\u001b[0;34m\u001b[0m\u001b[0m\n\u001b[0m\u001b[1;32m    602\u001b[0m \u001b[0;34m\u001b[0m\u001b[0m\n\u001b[1;32m    603\u001b[0m             \u001b[0;32mif\u001b[0m \u001b[0;32mnot\u001b[0m \u001b[0mis_scalar\u001b[0m\u001b[0;34m(\u001b[0m\u001b[0mresult\u001b[0m\u001b[0;34m)\u001b[0m\u001b[0;34m:\u001b[0m\u001b[0;34m\u001b[0m\u001b[0m\n",
      "\u001b[0;32m~/Projects/spinoza/ulm-4/wsd-dynamic-sense-vector/venv/lib/python3.6/site-packages/pandas/core/indexes/base.py\u001b[0m in \u001b[0;36mget_value\u001b[0;34m(self, series, key)\u001b[0m\n\u001b[1;32m   2472\u001b[0m         \u001b[0mk\u001b[0m \u001b[0;34m=\u001b[0m \u001b[0m_values_from_object\u001b[0m\u001b[0;34m(\u001b[0m\u001b[0mkey\u001b[0m\u001b[0;34m)\u001b[0m\u001b[0;34m\u001b[0m\u001b[0m\n\u001b[1;32m   2473\u001b[0m \u001b[0;34m\u001b[0m\u001b[0m\n\u001b[0;32m-> 2474\u001b[0;31m         \u001b[0mk\u001b[0m \u001b[0;34m=\u001b[0m \u001b[0mself\u001b[0m\u001b[0;34m.\u001b[0m\u001b[0m_convert_scalar_indexer\u001b[0m\u001b[0;34m(\u001b[0m\u001b[0mk\u001b[0m\u001b[0;34m,\u001b[0m \u001b[0mkind\u001b[0m\u001b[0;34m=\u001b[0m\u001b[0;34m'getitem'\u001b[0m\u001b[0;34m)\u001b[0m\u001b[0;34m\u001b[0m\u001b[0m\n\u001b[0m\u001b[1;32m   2475\u001b[0m         \u001b[0;32mtry\u001b[0m\u001b[0;34m:\u001b[0m\u001b[0;34m\u001b[0m\u001b[0m\n\u001b[1;32m   2476\u001b[0m             return self._engine.get_value(s, k,\n",
      "\u001b[0;32m~/Projects/spinoza/ulm-4/wsd-dynamic-sense-vector/venv/lib/python3.6/site-packages/pandas/core/indexes/base.py\u001b[0m in \u001b[0;36m_convert_scalar_indexer\u001b[0;34m(self, key, kind)\u001b[0m\n\u001b[1;32m   1315\u001b[0m             \u001b[0;31m# to be represented in the index\u001b[0m\u001b[0;34m\u001b[0m\u001b[0;34m\u001b[0m\u001b[0m\n\u001b[1;32m   1316\u001b[0m \u001b[0;34m\u001b[0m\u001b[0m\n\u001b[0;32m-> 1317\u001b[0;31m             \u001b[0;32mif\u001b[0m \u001b[0mkind\u001b[0m \u001b[0;32min\u001b[0m \u001b[0;34m[\u001b[0m\u001b[0;34m'getitem'\u001b[0m\u001b[0;34m,\u001b[0m \u001b[0;34m'ix'\u001b[0m\u001b[0;34m]\u001b[0m \u001b[0;32mand\u001b[0m \u001b[0mis_float\u001b[0m\u001b[0;34m(\u001b[0m\u001b[0mkey\u001b[0m\u001b[0;34m)\u001b[0m\u001b[0;34m:\u001b[0m\u001b[0;34m\u001b[0m\u001b[0m\n\u001b[0m\u001b[1;32m   1318\u001b[0m                 \u001b[0;32mif\u001b[0m \u001b[0;32mnot\u001b[0m \u001b[0mself\u001b[0m\u001b[0;34m.\u001b[0m\u001b[0mis_floating\u001b[0m\u001b[0;34m(\u001b[0m\u001b[0;34m)\u001b[0m\u001b[0;34m:\u001b[0m\u001b[0;34m\u001b[0m\u001b[0m\n\u001b[1;32m   1319\u001b[0m                     \u001b[0;32mreturn\u001b[0m \u001b[0mself\u001b[0m\u001b[0;34m.\u001b[0m\u001b[0m_invalid_indexer\u001b[0m\u001b[0;34m(\u001b[0m\u001b[0;34m'label'\u001b[0m\u001b[0;34m,\u001b[0m \u001b[0mkey\u001b[0m\u001b[0;34m)\u001b[0m\u001b[0;34m\u001b[0m\u001b[0m\n",
      "\u001b[0;31mKeyboardInterrupt\u001b[0m: "
     ]
    },
    {
     "name": "stderr",
     "output_type": "stream",
     "text": [
      "\n",
      "Extracting words:   5%|▍         | 178773/3884335 [00:27<03:38, 16920.94it/s]\u001b[A"
     ]
    }
   ],
   "source": [
    "from tqdm import tqdm\n",
    "tqdm.pandas(desc=\"Extracting words\")\n",
    "words = hdn_train.progress_apply(lambda row: buffer_train[row[\"sent_start\"]:row[\"sent_stop\"]][row[\"word_index\"]], axis=1)"
   ]
  },
  {
   "cell_type": "code",
   "execution_count": 16,
   "metadata": {},
   "outputs": [
    {
     "data": {
      "text/plain": [
       "<matplotlib.axes._subplots.AxesSubplot at 0x10c2d4940>"
      ]
     },
     "execution_count": 16,
     "metadata": {},
     "output_type": "execute_result"
    },
    {
     "data": {
      "image/png": "[encoded data removed]",
      "text/plain": [
       "<Figure size 432x288 with 1 Axes>"
      ]
     },
     "metadata": {},
     "output_type": "display_data"
    }
   ],
   "source": [
    "%matplotlib inline\n",
    "words.plot('hist')"
   ]
  },
  {
   "cell_type": "code",
   "execution_count": 17,
   "metadata": {},
   "outputs": [],
   "source": [
    "hdn_train['word'] = words"
   ]
  },
  {
   "cell_type": "code",
   "execution_count": 18,
   "metadata": {},
   "outputs": [],
   "source": [
    "df = hdn_train.groupby('word', group_keys=False).apply(lambda x: x.sample(min(len(x), 100)))"
   ]
  },
  {
   "cell_type": "code",
   "execution_count": 24,
   "metadata": {},
   "outputs": [
    {
     "name": "stdout",
     "output_type": "stream",
     "text": [
      "450321 vs 3884335\n"
     ]
    }
   ],
   "source": [
    "print(len(df), 'vs', len(hdn_train))"
   ]
  },
  {
   "cell_type": "code",
   "execution_count": 25,
   "metadata": {},
   "outputs": [
    {
     "data": {
      "text/plain": [
       "0.11593258562920036"
      ]
     },
     "execution_count": 25,
     "metadata": {},
     "output_type": "execute_result"
    }
   ],
   "source": [
    "len(df)/len(hdn_train)"
   ]
  },
  {
   "cell_type": "code",
   "execution_count": 26,
   "metadata": {},
   "outputs": [],
   "source": [
    "a=np.zeros((len(hdn_train)*9, 512), dtype=np.float32)"
   ]
  },
  {
   "cell_type": "code",
   "execution_count": null,
   "metadata": {},
   "outputs": [],
   "source": []
  }
 ],
 "metadata": {
  "kernelspec": {
   "display_name": "Python 3",
   "language": "python",
   "name": "python3"
  },
  "language_info": {
   "codemirror_mode": {
    "name": "ipython",
    "version": 3
   },
   "file_extension": ".py",
   "mimetype": "text/x-python",
   "name": "python",
   "nbconvert_exporter": "python",
   "pygments_lexer": "ipython3",
   "version": "3.6.2"
  }
 },
 "nbformat": 4,
 "nbformat_minor": 2
}
